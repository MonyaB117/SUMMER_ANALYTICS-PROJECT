{
  "nbformat": 4,
  "nbformat_minor": 0,
  "metadata": {
    "colab": {
      "provenance": [],
      "authorship_tag": "ABX9TyNUWNudiyD7tJPQKrNvAmHa",
      "include_colab_link": true
    },
    "kernelspec": {
      "name": "python3",
      "display_name": "Python 3"
    },
    "language_info": {
      "name": "python"
    }
  },
  "cells": [
    {
      "cell_type": "markdown",
      "metadata": {
        "id": "view-in-github",
        "colab_type": "text"
      },
      "source": [
        "<a href=\"https://colab.research.google.com/github/MonyaB117/SUMMER_ANALYTICS-PROJECT/blob/main/FINAL_HACK_2_SUBM_MONYA_BALANI.ipynb\" target=\"_parent\"><img src=\"https://colab.research.google.com/assets/colab-badge.svg\" alt=\"Open In Colab\"/></a>"
      ]
    },
    {
      "cell_type": "markdown",
      "source": [
        "IMPORTING ALL THE IMPORTANT LIBRARIES"
      ],
      "metadata": {
        "id": "cLEkmawSY1KI"
      }
    },
    {
      "cell_type": "code",
      "source": [
        "pip install catboost"
      ],
      "metadata": {
        "colab": {
          "base_uri": "https://localhost:8080/"
        },
        "id": "kPpev_OgZA73",
        "outputId": "24cc583f-14a8-4fd6-daec-3214414784db"
      },
      "execution_count": 34,
      "outputs": [
        {
          "output_type": "stream",
          "name": "stdout",
          "text": [
            "Requirement already satisfied: catboost in /usr/local/lib/python3.11/dist-packages (1.2.8)\n",
            "Requirement already satisfied: graphviz in /usr/local/lib/python3.11/dist-packages (from catboost) (0.21)\n",
            "Requirement already satisfied: matplotlib in /usr/local/lib/python3.11/dist-packages (from catboost) (3.10.0)\n",
            "Requirement already satisfied: numpy<3.0,>=1.16.0 in /usr/local/lib/python3.11/dist-packages (from catboost) (2.0.2)\n",
            "Requirement already satisfied: pandas>=0.24 in /usr/local/lib/python3.11/dist-packages (from catboost) (2.2.2)\n",
            "Requirement already satisfied: scipy in /usr/local/lib/python3.11/dist-packages (from catboost) (1.15.3)\n",
            "Requirement already satisfied: plotly in /usr/local/lib/python3.11/dist-packages (from catboost) (5.24.1)\n",
            "Requirement already satisfied: six in /usr/local/lib/python3.11/dist-packages (from catboost) (1.17.0)\n",
            "Requirement already satisfied: python-dateutil>=2.8.2 in /usr/local/lib/python3.11/dist-packages (from pandas>=0.24->catboost) (2.9.0.post0)\n",
            "Requirement already satisfied: pytz>=2020.1 in /usr/local/lib/python3.11/dist-packages (from pandas>=0.24->catboost) (2025.2)\n",
            "Requirement already satisfied: tzdata>=2022.7 in /usr/local/lib/python3.11/dist-packages (from pandas>=0.24->catboost) (2025.2)\n",
            "Requirement already satisfied: contourpy>=1.0.1 in /usr/local/lib/python3.11/dist-packages (from matplotlib->catboost) (1.3.2)\n",
            "Requirement already satisfied: cycler>=0.10 in /usr/local/lib/python3.11/dist-packages (from matplotlib->catboost) (0.12.1)\n",
            "Requirement already satisfied: fonttools>=4.22.0 in /usr/local/lib/python3.11/dist-packages (from matplotlib->catboost) (4.58.4)\n",
            "Requirement already satisfied: kiwisolver>=1.3.1 in /usr/local/lib/python3.11/dist-packages (from matplotlib->catboost) (1.4.8)\n",
            "Requirement already satisfied: packaging>=20.0 in /usr/local/lib/python3.11/dist-packages (from matplotlib->catboost) (24.2)\n",
            "Requirement already satisfied: pillow>=8 in /usr/local/lib/python3.11/dist-packages (from matplotlib->catboost) (11.2.1)\n",
            "Requirement already satisfied: pyparsing>=2.3.1 in /usr/local/lib/python3.11/dist-packages (from matplotlib->catboost) (3.2.3)\n",
            "Requirement already satisfied: tenacity>=6.2.0 in /usr/local/lib/python3.11/dist-packages (from plotly->catboost) (9.1.2)\n"
          ]
        }
      ]
    },
    {
      "cell_type": "code",
      "execution_count": 35,
      "metadata": {
        "id": "-pYmX69AYvbM"
      },
      "outputs": [],
      "source": [
        "import numpy as np\n",
        "import pandas as pd\n",
        "import os\n",
        "from xgboost import XGBClassifier\n",
        "from sklearn.metrics import accuracy_score\n",
        "from sklearn.ensemble import AdaBoostClassifier, GradientBoostingClassifier\n",
        "from sklearn.preprocessing import LabelEncoder\n",
        "from sklearn.svm import SVC\n",
        "from catboost import CatBoostClassifier\n",
        "from sklearn.preprocessing import StandardScaler, LabelEncoder\n",
        "from sklearn.model_selection import train_test_split ,cross_val_score, StratifiedKFold\n",
        "from sklearn.metrics import classification_report\n",
        "import matplotlib.pyplot as plt"
      ]
    },
    {
      "cell_type": "markdown",
      "source": [
        "LOADING THE TRAINING AND TESTING DATA"
      ],
      "metadata": {
        "id": "0dkDSH9DYz-T"
      }
    },
    {
      "cell_type": "code",
      "source": [
        "df_train = pd.read_csv(\"https://raw.githubusercontent.com/MonyaB117/SUMMER_ANALYTICS-PROJECT/refs/heads/main/Train_Data.csv\")\n",
        "df_test = pd.read_csv('https://raw.githubusercontent.com/MonyaB117/SUMMER_ANALYTICS-PROJECT/refs/heads/main/Test_Data.csv')"
      ],
      "metadata": {
        "id": "46nTN5cxZXK2"
      },
      "execution_count": 36,
      "outputs": []
    },
    {
      "cell_type": "markdown",
      "source": [
        "PREPROCESSING THE TRAINING DATA"
      ],
      "metadata": {
        "id": "8hFTSwuGZhs9"
      }
    },
    {
      "cell_type": "code",
      "source": [
        "# Fill missing values with column mean\n",
        "for col in ['BMXBMI', 'LBXGLU', 'LBXGLT', 'RIAGENDR', 'LBXIN']:\n",
        "    df_train[col].fillna(df_train[col].mean(), inplace=True)\n",
        "\n",
        "# Drop rows with essential NaNs\n",
        "df_train.dropna(subset=['DIQ010', 'age_group', 'PAQ605', 'SEQN'], inplace=True)\n",
        "df_train.reset_index(drop=True, inplace=True)\n",
        "\n",
        "# Encode age_group\n",
        "df_train['age_group'] = df_train['age_group'].replace({'Adult': 0, 'Senior': 1})"
      ],
      "metadata": {
        "id": "NwshTFzUZaKJ"
      },
      "execution_count": 37,
      "outputs": []
    },
    {
      "cell_type": "markdown",
      "source": [
        "PREPROCESSING THE TESTING DATA"
      ],
      "metadata": {
        "id": "ZdlFx8XvZ9ES"
      }
    },
    {
      "cell_type": "code",
      "source": [
        "for col in ['BMXBMI', 'LBXGLU', 'LBXGLT', 'RIAGENDR', 'LBXIN']:\n",
        "    df_test[col].fillna(df_test[col].mean(), inplace=True)\n",
        "df_test.dropna(subset=['DIQ010', 'PAQ605', 'SEQN'], inplace=True)\n",
        "df_test.reset_index(drop=True, inplace=True)"
      ],
      "metadata": {
        "colab": {
          "base_uri": "https://localhost:8080/"
        },
        "id": "kFSff95DZ5L7",
        "outputId": "1e07373e-faa1-48f3-d815-7d8d83d76dfe"
      },
      "execution_count": 38,
      "outputs": [
        {
          "output_type": "stream",
          "name": "stderr",
          "text": [
            "/tmp/ipython-input-38-3940540082.py:2: FutureWarning: A value is trying to be set on a copy of a DataFrame or Series through chained assignment using an inplace method.\n",
            "The behavior will change in pandas 3.0. This inplace method will never work because the intermediate object on which we are setting values always behaves as a copy.\n",
            "\n",
            "For example, when doing 'df[col].method(value, inplace=True)', try using 'df.method({col: value}, inplace=True)' or df[col] = df[col].method(value) instead, to perform the operation inplace on the original object.\n",
            "\n",
            "\n",
            "  df_test[col].fillna(df_test[col].mean(), inplace=True)\n"
          ]
        }
      ]
    },
    {
      "cell_type": "markdown",
      "source": [
        "FEATURE SELECTION AND CHECKING WHICH MODEL IS EFFICIENT FOR TRAINING THE DATSET"
      ],
      "metadata": {
        "id": "Nt2y9C0TaHus"
      }
    },
    {
      "cell_type": "code",
      "source": [
        "features = ['BMXBMI', 'LBXGLU', 'LBXGLT', 'RIAGENDR', 'LBXIN', 'DIQ010', 'PAQ605']\n",
        "X_train_final = df_train[features]\n",
        "y_train_final = df_train['age_group']\n",
        "X_test_final = df_test[features]"
      ],
      "metadata": {
        "id": "ZeZCVTG3aAsB"
      },
      "execution_count": 39,
      "outputs": []
    },
    {
      "cell_type": "markdown",
      "source": [
        "DEFINING 7 FOLD STRATIFIED CROSS VALIDATION"
      ],
      "metadata": {
        "id": "pRR0dERzar8C"
      }
    },
    {
      "cell_type": "code",
      "source": [
        "skf = StratifiedKFold(n_splits=7, shuffle=True, random_state=42)"
      ],
      "metadata": {
        "id": "tHxvxDGpaUIp"
      },
      "execution_count": 40,
      "outputs": []
    },
    {
      "cell_type": "markdown",
      "source": [
        "APPLYING SVC MODEL WITH LINEAR KERNEL"
      ],
      "metadata": {
        "id": "IKsmjucjcO4-"
      }
    },
    {
      "cell_type": "code",
      "source": [
        "svc_model = SVC(kernel='linear')\n",
        "svc_scores = cross_val_score(svc_model, X_train_final, y_train_final, cv=skf, scoring='accuracy')\n",
        "print(f\"SVC Mean CV Accuracy: {np.mean(svc_scores):.4f} | Std: {np.std(svc_scores):.4f}\")\n",
        "print(f\"SVC CROSS VALIDATION SCORE: \", svc_scores)"
      ],
      "metadata": {
        "colab": {
          "base_uri": "https://localhost:8080/"
        },
        "id": "3QaPyy7IakV9",
        "outputId": "5b91bd29-3e46-464f-a6a8-151c2fe8698b"
      },
      "execution_count": 41,
      "outputs": [
        {
          "output_type": "stream",
          "name": "stdout",
          "text": [
            "SVC Mean CV Accuracy: 0.8381 | Std: 0.0012\n",
            "SVC CROSS VALIDATION SCORE:  [0.83882784 0.83882784 0.83882784 0.83882784 0.83516484 0.83823529\n",
            " 0.83823529]\n"
          ]
        }
      ]
    },
    {
      "cell_type": "markdown",
      "source": [
        "APPLYING CATBOOST MODEL (SINCE MOST OF THE TRAINING DATA IS IN CATEGORIES)"
      ],
      "metadata": {
        "id": "vLYH6KWBcZ6o"
      }
    },
    {
      "cell_type": "code",
      "source": [
        "# CatBoost\n",
        "cat_model = CatBoostClassifier(verbose=0, random_state=42)\n",
        "cat_scores = cross_val_score(cat_model, X_train_final, y_train_final, cv=skf, scoring='accuracy')\n",
        "print(f\"CatBoost Mean CV Accuracy: {np.mean(cat_scores):.4f} | Std: {np.std(cat_scores):.4f}\")\n",
        "print(f\"CATBOOST CROSS VALIDATION SCORE: \", cat_scores)"
      ],
      "metadata": {
        "colab": {
          "base_uri": "https://localhost:8080/"
        },
        "id": "Ghtr9vEJalDf",
        "outputId": "6e02afdf-ee86-44cd-e8a6-1ef9be4a2bc8"
      },
      "execution_count": 42,
      "outputs": [
        {
          "output_type": "stream",
          "name": "stdout",
          "text": [
            "CatBoost Mean CV Accuracy: 0.8365 | Std: 0.0140\n",
            "CATBOOST CROSS VALIDATION SCORE:  [0.82783883 0.84615385 0.83150183 0.86080586 0.84615385 0.82720588\n",
            " 0.81617647]\n"
          ]
        }
      ]
    },
    {
      "cell_type": "markdown",
      "source": [
        "APPLYING ADABOOST MODEL"
      ],
      "metadata": {
        "id": "aAEH34qKcmQs"
      }
    },
    {
      "cell_type": "code",
      "source": [
        "# AdaBoost\n",
        "ada_model = AdaBoostClassifier(random_state=42)\n",
        "ada_scores = cross_val_score(ada_model, X_train_final, y_train_final, cv=skf, scoring='accuracy')\n",
        "print(f\"AdaBoost Mean CV Accuracy: {np.mean(ada_scores):.4f} | Std: {np.std(ada_scores):.4f}\")\n",
        "print(f\"ADABOOST CROSS VALIDATION SCORE: \", ada_scores)"
      ],
      "metadata": {
        "colab": {
          "base_uri": "https://localhost:8080/"
        },
        "collapsed": true,
        "id": "gfvDxC2nbLvI",
        "outputId": "187a31d1-eb42-4112-9447-705e82591aef"
      },
      "execution_count": 43,
      "outputs": [
        {
          "output_type": "stream",
          "name": "stdout",
          "text": [
            "AdaBoost Mean CV Accuracy: 0.8339 | Std: 0.0124\n",
            "ADABOOST CROSS VALIDATION SCORE:  [0.82783883 0.83150183 0.84249084 0.84981685 0.84249084 0.83455882\n",
            " 0.80882353]\n"
          ]
        }
      ]
    },
    {
      "cell_type": "markdown",
      "source": [
        "APPLYING GRADIENTBOOST MODEL"
      ],
      "metadata": {
        "id": "83i-Y8mucqA2"
      }
    },
    {
      "cell_type": "code",
      "source": [
        "# Gradient Boosting\n",
        "gb_model = GradientBoostingClassifier(random_state=42)\n",
        "gb_scores = cross_val_score(gb_model, X_train_final, y_train_final, cv=skf, scoring='accuracy')\n",
        "print(f\"Gradient Boosting Mean CV Accuracy: {np.mean(gb_scores):.4f} | Std: {np.std(gb_scores):.4f}\")\n",
        "print(f\"GRADIENTBOOST CROSS VALIDATION SCORE: \", gb_scores)"
      ],
      "metadata": {
        "colab": {
          "base_uri": "https://localhost:8080/"
        },
        "id": "Iz28ftY6bQ13",
        "outputId": "c8ab1c8c-f073-4139-ebde-b3aa49dc342a"
      },
      "execution_count": 44,
      "outputs": [
        {
          "output_type": "stream",
          "name": "stdout",
          "text": [
            "Gradient Boosting Mean CV Accuracy: 0.8418 | Std: 0.0150\n",
            "GRADIENTBOOST CROSS VALIDATION SCORE:  [0.82417582 0.83882784 0.85714286 0.85714286 0.84981685 0.84926471\n",
            " 0.81617647]\n"
          ]
        }
      ]
    },
    {
      "cell_type": "markdown",
      "source": [
        "TRAIN , TEST AND SPLIT FOR CHECKING THE FINAL ACCURACY"
      ],
      "metadata": {
        "id": "s_cQ6JApcu1d"
      }
    },
    {
      "cell_type": "code",
      "source": [
        "# Train-Test Split for final accuracy on holdout set\n",
        "X_train, X_test, y_train, y_test = train_test_split(X_train_final, y_train_final, test_size=0.2, stratify=y_train_final, random_state=42)"
      ],
      "metadata": {
        "id": "BEsty-PUbWwv"
      },
      "execution_count": 45,
      "outputs": []
    },
    {
      "cell_type": "markdown",
      "source": [
        "ACCURACY FOR SVC MODEL"
      ],
      "metadata": {
        "id": "_9G0Resqc1JK"
      }
    },
    {
      "cell_type": "code",
      "source": [
        "# SVC Accuracy\n",
        "svc_model.fit(X_train, y_train)\n",
        "y_pred_svc = svc_model.predict(X_test)\n",
        "svc_acc = accuracy_score(y_test, y_pred_svc)\n",
        "print(f\"SVC Holdout Accuracy: {svc_acc:.4f}\")\n"
      ],
      "metadata": {
        "colab": {
          "base_uri": "https://localhost:8080/"
        },
        "id": "4c0frkMTcAGd",
        "outputId": "9d0eca71-9f0f-48c7-8219-b2d7e9a50bd8"
      },
      "execution_count": 46,
      "outputs": [
        {
          "output_type": "stream",
          "name": "stdout",
          "text": [
            "SVC Holdout Accuracy: 0.8377\n"
          ]
        }
      ]
    },
    {
      "cell_type": "markdown",
      "source": [
        "ACCURACY FOR CATBOOST MODEL"
      ],
      "metadata": {
        "id": "kyFI44Spc5lU"
      }
    },
    {
      "cell_type": "code",
      "source": [
        "# CatBoost Accuracy\n",
        "cat_model.fit(X_train, y_train)\n",
        "y_pred_cat = cat_model.predict(X_test)\n",
        "cat_acc = accuracy_score(y_test, y_pred_cat)\n",
        "print(f\"CatBoost Holdout Accuracy: {cat_acc:.4f}\")"
      ],
      "metadata": {
        "colab": {
          "base_uri": "https://localhost:8080/"
        },
        "id": "IgBU5-mlcESE",
        "outputId": "1f46bf60-6cd7-416b-b85d-f7603a762b5d"
      },
      "execution_count": 47,
      "outputs": [
        {
          "output_type": "stream",
          "name": "stdout",
          "text": [
            "CatBoost Holdout Accuracy: 0.8115\n"
          ]
        }
      ]
    },
    {
      "cell_type": "markdown",
      "source": [
        "ACCRACY FOR ADABOOST MODEL"
      ],
      "metadata": {
        "id": "po6P8XV5c9yb"
      }
    },
    {
      "cell_type": "code",
      "source": [
        "# AdaBoost Accuracy\n",
        "ada_model.fit(X_train, y_train)\n",
        "y_pred_ada = ada_model.predict(X_test)\n",
        "ada_acc = accuracy_score(y_test, y_pred_ada)\n",
        "print(f\"AdaBoost Holdout Accuracy: {ada_acc:.4f}\")\n"
      ],
      "metadata": {
        "colab": {
          "base_uri": "https://localhost:8080/"
        },
        "id": "EYB26ufNcH2n",
        "outputId": "483ee136-ab0c-4a0f-ed11-fbb4cd6be721"
      },
      "execution_count": 48,
      "outputs": [
        {
          "output_type": "stream",
          "name": "stdout",
          "text": [
            "AdaBoost Holdout Accuracy: 0.8351\n"
          ]
        }
      ]
    },
    {
      "cell_type": "markdown",
      "source": [
        "ACCURACY FOR GRADIENT BOOST MODEL"
      ],
      "metadata": {
        "id": "zxDtYEJhdBPC"
      }
    },
    {
      "cell_type": "code",
      "source": [
        "# Gradient Boosting Accuracy\n",
        "gb_model.fit(X_train, y_train)\n",
        "y_pred_gb = gb_model.predict(X_test)\n",
        "gb_acc = accuracy_score(y_test, y_pred_gb)\n",
        "print(f\"Gradient Boosting Holdout Accuracy: {gb_acc:.4f}\")"
      ],
      "metadata": {
        "colab": {
          "base_uri": "https://localhost:8080/"
        },
        "id": "2ibvPOUPcMAz",
        "outputId": "86797953-33e8-431b-d7d6-2097612c3407"
      },
      "execution_count": 49,
      "outputs": [
        {
          "output_type": "stream",
          "name": "stdout",
          "text": [
            "Gradient Boosting Holdout Accuracy: 0.8141\n"
          ]
        }
      ]
    },
    {
      "cell_type": "markdown",
      "source": [
        "AFTER LOOKING ON THE CROSS VALIDATION SCORES, ACCURACY SCORES AND THE TYPE OF DATA WE HAVE IN THE TEST DATASET , WE WILL BE APPLYING CATBOOST MODEL AND STORE THE OUTPUT IN THE FINAL_SUBMISSION_FILE"
      ],
      "metadata": {
        "id": "POflT-9cko_3"
      }
    },
    {
      "cell_type": "code",
      "source": [
        "final_catboost = CatBoostClassifier(verbose=0, random_state=42)\n",
        "final_catboost.fit(X_train_final, y_train_final)\n",
        "pred_submission = final_catboost.predict(X_test_final)\n",
        "\n",
        "HACK_2_FINAL_submission = pd.DataFrame({\n",
        "    'age_group':pred_submission\n",
        "\n",
        "})\n",
        "\n",
        "print(\"\\nSubmission Preview:\")\n",
        "print(HACK_2_FINAL_submission)\n",
        "\n",
        "HACK_2_FINAL_submission.to_csv('Final_Predicted_Submission.csv', index=False)\n",
        "\n",
        "\n",
        "print(\"Submission file saved as Final_Predicted_Submission.csv\")"
      ],
      "metadata": {
        "colab": {
          "base_uri": "https://localhost:8080/"
        },
        "id": "Zl-8eTm1dPGN",
        "outputId": "1ff6712a-e309-4e91-ffb3-f34beb58d96e"
      },
      "execution_count": 51,
      "outputs": [
        {
          "output_type": "stream",
          "name": "stdout",
          "text": [
            "\n",
            "Submission Preview:\n",
            "     age_group\n",
            "0            0\n",
            "1            0\n",
            "2            0\n",
            "3            0\n",
            "4            0\n",
            "..         ...\n",
            "303          0\n",
            "304          0\n",
            "305          0\n",
            "306          0\n",
            "307          0\n",
            "\n",
            "[308 rows x 1 columns]\n",
            "Submission file saved as Final_Predicted_Submission.csv\n"
          ]
        }
      ]
    },
    {
      "cell_type": "code",
      "source": [],
      "metadata": {
        "id": "VKKBzcEMpHMv"
      },
      "execution_count": null,
      "outputs": []
    }
  ]
}